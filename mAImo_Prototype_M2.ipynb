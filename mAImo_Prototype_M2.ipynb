{
  "nbformat": 4,
  "nbformat_minor": 0,
  "metadata": {
    "colab": {
      "provenance": [],
      "authorship_tag": "ABX9TyPaoMQ7tckhc0IWBblic7jv",
      "include_colab_link": true
    },
    "kernelspec": {
      "name": "python3",
      "display_name": "Python 3"
    },
    "language_info": {
      "name": "python"
    }
  },
  "cells": [
    {
      "cell_type": "markdown",
      "metadata": {
        "id": "view-in-github",
        "colab_type": "text"
      },
      "source": [
        "<a href=\"https://colab.research.google.com/github/noahlim99/MAIMO/blob/main/mAImo_Prototype_M2.ipynb\" target=\"_parent\"><img src=\"https://colab.research.google.com/assets/colab-badge.svg\" alt=\"Open In Colab\"/></a>"
      ]
    },
    {
      "cell_type": "code",
      "execution_count": 2,
      "metadata": {
        "colab": {
          "base_uri": "https://localhost:8080/"
        },
        "id": "qM7Wcud5R-51",
        "outputId": "a974fddc-2d4e-4469-88c4-cc8dd9dfe178"
      },
      "outputs": [
        {
          "output_type": "stream",
          "name": "stdout",
          "text": [
            "Collecting pytesseract\n",
            "  Downloading pytesseract-0.3.13-py3-none-any.whl.metadata (11 kB)\n",
            "Requirement already satisfied: packaging>=21.3 in /usr/local/lib/python3.10/dist-packages (from pytesseract) (24.2)\n",
            "Requirement already satisfied: Pillow>=8.0.0 in /usr/local/lib/python3.10/dist-packages (from pytesseract) (11.0.0)\n",
            "Downloading pytesseract-0.3.13-py3-none-any.whl (14 kB)\n",
            "Installing collected packages: pytesseract\n",
            "Successfully installed pytesseract-0.3.13\n"
          ]
        }
      ],
      "source": [
        "!pip install pytesseract\n",
        "\n",
        "import os\n",
        "from PIL import Image\n",
        "import pytesseract\n",
        "import re\n",
        "from google.colab import drive\n",
        "from openai import OpenAI"
      ]
    },
    {
      "cell_type": "code",
      "source": [
        "def setup_environment():\n",
        "    \"\"\"\n",
        "    Set up the environment, including Google Drive and necessary installations.\n",
        "    \"\"\"\n",
        "    drive.mount('/content/drive')\n",
        "    os.system(\"sudo apt-get update && sudo apt-get install -y tesseract-ocr tesseract-ocr-kor\")\n",
        "    os.system(\"pip install pytesseract\")"
      ],
      "metadata": {
        "id": "qS8x6BGOSDAP"
      },
      "execution_count": 3,
      "outputs": []
    },
    {
      "cell_type": "code",
      "source": [
        "# 텍스트 추출 함수\n",
        "def extract_text_from_images(input_dir, output_dir, lang='kor+eng'):\n",
        "    \"\"\"\n",
        "    Extract text from image files in a directory and save as text files.\n",
        "\n",
        "    Parameters:\n",
        "        input_dir (str): Directory containing images.\n",
        "        output_dir (str): Directory to save extracted text.\n",
        "        lang (str): OCR language settings (default: 'kor+eng').\n",
        "    \"\"\"\n",
        "    os.makedirs(output_dir, exist_ok=True)\n",
        "\n",
        "    for img_file in os.listdir(input_dir):\n",
        "        if img_file.lower().endswith(('.png', '.jpg', '.jpeg', '.bmp', '.tiff')):\n",
        "            try:\n",
        "                img_path = os.path.join(input_dir, img_file)\n",
        "                output_path = os.path.join(output_dir, os.path.splitext(img_file)[0] + '.txt')\n",
        "\n",
        "                text = pytesseract.image_to_string(Image.open(img_path), lang=lang)\n",
        "                filtered_text = re.sub(r'[^\\w\\s가-힣A-Za-z0-9+\\-*/=<>.,]', '', text)\n",
        "\n",
        "                with open(output_path, 'w', encoding='utf-8') as f:\n",
        "                    f.write(filtered_text)\n",
        "\n",
        "                print(f\"텍스트 추출 완료: {output_path}\")\n",
        "            except Exception as e:\n",
        "                print(f\"이미지 처리 오류: {img_file}, {e}\")"
      ],
      "metadata": {
        "id": "nCPyel9zSPrK"
      },
      "execution_count": 4,
      "outputs": []
    },
    {
      "cell_type": "code",
      "source": [
        "# Open AI (Solar Pro) API 설정\n",
        "def configure_openai(api_key):\n",
        "    \"\"\"\n",
        "    Configure OpenAI API client.\n",
        "    \"\"\"\n",
        "    return OpenAI(api_key=api_key, base_url=\"https://api.upstage.ai/v1/solar\")\n"
      ],
      "metadata": {
        "id": "p3-hHUpYSS_K"
      },
      "execution_count": 5,
      "outputs": []
    },
    {
      "cell_type": "code",
      "source": [
        "# 과목 분류 함수\n",
        "def classify_subject(content, subjects, client):\n",
        "    \"\"\"\n",
        "    Classify text content into a subject using OpenAI.\n",
        "\n",
        "    Parameters:\n",
        "        content (str): Text to classify.\n",
        "        subjects (list): List of subject options.\n",
        "        client (OpenAI): Configured OpenAI client.\n",
        "    \"\"\"\n",
        "    subject_list = \", \".join(subjects)\n",
        "    prompt = f\"\"\"\n",
        "    Classify the following text into one of these subjects:\n",
        "    {subject_list}.\n",
        "    Text: \"{content}\"\n",
        "    \"\"\"\n",
        "    response = client.chat.completions.create(\n",
        "        model=\"solar-pro\",\n",
        "        messages=[{\"role\": \"user\", \"content\": prompt}],\n",
        "        stream=False,\n",
        "    )\n",
        "    return response.choices[0].message.content.strip()\n",
        "\n",
        "# 요약 및 확장 함수\n",
        "def summarize_and_expand(content, client):\n",
        "    \"\"\"\n",
        "    Summarize and expand text content using OpenAI.\n",
        "\n",
        "    Parameters:\n",
        "        content (str): Text to summarize and expand.\n",
        "        client (OpenAI): Configured OpenAI client.\n",
        "    \"\"\"\n",
        "    prompt = f\"\"\"\n",
        "    Summarize the following text while keeping only subject-relevant information.\n",
        "    Add \"Additional Information:\" with relevant context if applicable.\n",
        "    Text: \"{content}\"\n",
        "    \"\"\"\n",
        "    response = client.chat.completions.create(\n",
        "        model=\"solar-pro\",\n",
        "        messages=[{\"role\": \"user\", \"content\": prompt}],\n",
        "        stream=False,\n",
        "    )\n",
        "    output = response.choices[0].message.content.strip()\n",
        "    if \"Additional Information:\" in output:\n",
        "        summary, additional = output.split(\"Additional Information:\", 1)\n",
        "        return summary.strip(), additional.strip()\n",
        "    return output.strip(), \"\""
      ],
      "metadata": {
        "id": "fiXSke1DSY_0"
      },
      "execution_count": 6,
      "outputs": []
    },
    {
      "cell_type": "code",
      "source": [
        "# 메인 실행\n",
        "def main():\n",
        "    # 환경 설정\n",
        "    setup_environment()\n",
        "\n",
        "    # 사용자 입력\n",
        "    subjects = input(\"수강 중인 수업을 입력하세요 (콤마로 구분): \").split(\",\")\n",
        "    subjects = [subject.strip() for subject in subjects if subject.strip()]\n",
        "\n",
        "    if not subjects:\n",
        "        print(\"수업 목록이 비어 있습니다. 프로그램을 종료합니다.\")\n",
        "        return\n",
        "\n",
        "    print(f\"입력된 수업 목록: {subjects}\")\n",
        "\n",
        "    # 디렉토리 설정\n",
        "    input_dir = '/content/drive/My Drive/AIDS_Project/Images'\n",
        "    output_dir = '/content/drive/My Drive/AIDS_Project/texts'\n",
        "\n",
        "    # 텍스트 추출\n",
        "    extract_text_from_images(input_dir, output_dir)\n",
        "\n",
        "    # OpenAI 설정\n",
        "    client = configure_openai(api_key=\"up_QlPWg5KR8ix0jWZnOBqsFjSAyltL1\")\n",
        "\n",
        "    # 텍스트 분류 및 요약\n",
        "    for txt_file in os.listdir(output_dir):\n",
        "        if txt_file.endswith('.txt'):\n",
        "            file_path = os.path.join(output_dir, txt_file)\n",
        "            with open(file_path, 'r', encoding='utf-8') as file:\n",
        "                content = file.read()\n",
        "\n",
        "            subject = classify_subject(content, subjects, client)\n",
        "            summary, additional_info = summarize_and_expand(content, client)\n",
        "\n",
        "            print(f\"파일: {txt_file}\")\n",
        "            print(f\"과목: {subject}\")\n",
        "            print(f\"요약: {summary}\")\n",
        "            if additional_info:\n",
        "                print(f\"추가 정보: {additional_info}\")\n",
        "            print(\"-\" * 50)\n",
        "\n",
        "if __name__ == \"__main__\":\n",
        "    main()"
      ],
      "metadata": {
        "colab": {
          "base_uri": "https://localhost:8080/"
        },
        "id": "lLkB-vnOSnl6",
        "outputId": "b07c79b0-490a-440c-bbbd-cc637831ffba"
      },
      "execution_count": 7,
      "outputs": [
        {
          "output_type": "stream",
          "name": "stdout",
          "text": [
            "Mounted at /content/drive\n",
            "수강 중인 수업을 입력하세요 (콤마로 구분): 금융경제학, 수리통계학, 일반생물학, 교육학개론\n",
            "입력된 수업 목록: ['금융경제학', '수리통계학', '일반생물학', '교육학개론']\n",
            "텍스트 추출 완료: /content/drive/My Drive/AIDS_Project/texts/IMG_7299.txt\n",
            "파일: IMG_7299.txt\n",
            "과목: The given text is related to the subject of \"수리통계학\" (Statistical Analysis). This is because the text discusses topics related to linear algebra, vector spaces, and matrices, which are fundamental concepts in statistical analysis.\n",
            "\n",
            "Classification: 수리통계학\n",
            "요약: Summary: The text discusses the proof that a square matrix M is a projection matrix if it satisfies M^2 = M. It then goes on to explain that if M is a projection matrix, its column space is orthogonal to its complement. The complement is defined as the set of vectors that are orthogonal to all vectors in the column space. The text also mentions a specific example of a projection matrix, which is a generalization of a symmetric orthogonal projection matrix.\n",
            "추가 정보: The text is written in Korean and contains mathematical symbols and equations. The specific example of a projection matrix is denoted by \"1\" and has a complex representation.\n",
            "--------------------------------------------------\n"
          ]
        }
      ]
    }
  ]
}