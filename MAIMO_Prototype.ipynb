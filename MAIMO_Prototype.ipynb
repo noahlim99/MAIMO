{
  "nbformat": 4,
  "nbformat_minor": 0,
  "metadata": {
    "colab": {
      "provenance": [],
      "authorship_tag": "ABX9TyPdIB6zMxBUxHGOwHlmVfXH",
      "include_colab_link": true
    },
    "kernelspec": {
      "name": "python3",
      "display_name": "Python 3"
    },
    "language_info": {
      "name": "python"
    }
  },
  "cells": [
    {
      "cell_type": "markdown",
      "metadata": {
        "id": "view-in-github",
        "colab_type": "text"
      },
      "source": [
        "<a href=\"https://colab.research.google.com/github/noahlim99/MAIMO/blob/main/MAIMO_Prototype.ipynb\" target=\"_parent\"><img src=\"https://colab.research.google.com/assets/colab-badge.svg\" alt=\"Open In Colab\"/></a>"
      ]
    },
    {
      "cell_type": "code",
      "source": [
        "!pip install pytesseract\n",
        "\n",
        "from google.colab import drive  # Import to mount Google Drive\n",
        "from openai import OpenAI  # Ensure openai==1.52.2 or compatible\n",
        "import os\n",
        "from PIL import Image\n",
        "import pytesseract\n",
        "import re\n",
        "\n",
        "# Mount Google Drive\n",
        "drive.mount('/content/drive')\n"
      ],
      "metadata": {
        "colab": {
          "base_uri": "https://localhost:8080/"
        },
        "id": "bqwyQeU8p6dT",
        "outputId": "85e5ab18-afc8-45b3-c487-81e60770d568"
      },
      "execution_count": 2,
      "outputs": [
        {
          "output_type": "stream",
          "name": "stdout",
          "text": [
            "Requirement already satisfied: pytesseract in /usr/local/lib/python3.10/dist-packages (0.3.13)\n",
            "Requirement already satisfied: packaging>=21.3 in /usr/local/lib/python3.10/dist-packages (from pytesseract) (24.2)\n",
            "Requirement already satisfied: Pillow>=8.0.0 in /usr/local/lib/python3.10/dist-packages (from pytesseract) (11.0.0)\n",
            "Mounted at /content/drive\n"
          ]
        }
      ]
    },
    {
      "cell_type": "code",
      "source": [
        "!sudo apt-get update\n",
        "!sudo apt-get install -y tesseract-ocr\n",
        "!sudo apt-get install -y tesseract-ocr-kor\n",
        "!pip install pytesseract"
      ],
      "metadata": {
        "colab": {
          "base_uri": "https://localhost:8080/"
        },
        "collapsed": true,
        "id": "61c3HqrswIj5",
        "outputId": "b6cb2f58-c8f8-46fa-d133-62c34753d6c1"
      },
      "execution_count": 3,
      "outputs": [
        {
          "output_type": "stream",
          "name": "stdout",
          "text": [
            "\r0% [Working]\r            \rGet:1 https://cloud.r-project.org/bin/linux/ubuntu jammy-cran40/ InRelease [3,626 B]\n",
            "Get:2 https://developer.download.nvidia.com/compute/cuda/repos/ubuntu2204/x86_64  InRelease [1,581 B]\n",
            "Get:3 https://developer.download.nvidia.com/compute/cuda/repos/ubuntu2204/x86_64  Packages [1,110 kB]\n",
            "Get:4 http://security.ubuntu.com/ubuntu jammy-security InRelease [129 kB]\n",
            "Hit:5 http://archive.ubuntu.com/ubuntu jammy InRelease\n",
            "Get:6 http://archive.ubuntu.com/ubuntu jammy-updates InRelease [128 kB]\n",
            "Get:7 https://r2u.stat.illinois.edu/ubuntu jammy InRelease [6,555 B]\n",
            "Hit:8 https://ppa.launchpadcontent.net/deadsnakes/ppa/ubuntu jammy InRelease\n",
            "Get:9 https://r2u.stat.illinois.edu/ubuntu jammy/main all Packages [8,487 kB]\n",
            "Hit:10 https://ppa.launchpadcontent.net/graphics-drivers/ppa/ubuntu jammy InRelease\n",
            "Hit:11 https://ppa.launchpadcontent.net/ubuntugis/ppa/ubuntu jammy InRelease\n",
            "Get:12 http://security.ubuntu.com/ubuntu jammy-security/universe amd64 Packages [1,164 kB]\n",
            "Get:13 http://archive.ubuntu.com/ubuntu jammy-backports InRelease [127 kB]\n",
            "Get:14 http://archive.ubuntu.com/ubuntu jammy-updates/universe amd64 Packages [1,453 kB]\n",
            "Get:15 http://security.ubuntu.com/ubuntu jammy-security/main amd64 Packages [2,425 kB]\n",
            "Get:16 http://archive.ubuntu.com/ubuntu jammy-updates/main amd64 Packages [2,701 kB]\n",
            "Get:17 https://r2u.stat.illinois.edu/ubuntu jammy/main amd64 Packages [2,615 kB]\n",
            "Fetched 20.4 MB in 5s (4,346 kB/s)\n",
            "Reading package lists... Done\n",
            "W: Skipping acquire of configured file 'main/source/Sources' as repository 'https://r2u.stat.illinois.edu/ubuntu jammy InRelease' does not seem to provide it (sources.list entry misspelt?)\n",
            "Reading package lists... Done\n",
            "Building dependency tree... Done\n",
            "Reading state information... Done\n",
            "The following additional packages will be installed:\n",
            "  tesseract-ocr-eng tesseract-ocr-osd\n",
            "The following NEW packages will be installed:\n",
            "  tesseract-ocr tesseract-ocr-eng tesseract-ocr-osd\n",
            "0 upgraded, 3 newly installed, 0 to remove and 55 not upgraded.\n",
            "Need to get 4,816 kB of archives.\n",
            "After this operation, 15.6 MB of additional disk space will be used.\n",
            "Get:1 http://archive.ubuntu.com/ubuntu jammy/universe amd64 tesseract-ocr-eng all 1:4.00~git30-7274cfa-1.1 [1,591 kB]\n",
            "Get:2 http://archive.ubuntu.com/ubuntu jammy/universe amd64 tesseract-ocr-osd all 1:4.00~git30-7274cfa-1.1 [2,990 kB]\n",
            "Get:3 http://archive.ubuntu.com/ubuntu jammy/universe amd64 tesseract-ocr amd64 4.1.1-2.1build1 [236 kB]\n",
            "Fetched 4,816 kB in 2s (1,951 kB/s)\n",
            "debconf: unable to initialize frontend: Dialog\n",
            "debconf: (No usable dialog-like program is installed, so the dialog based frontend cannot be used. at /usr/share/perl5/Debconf/FrontEnd/Dialog.pm line 78, <> line 3.)\n",
            "debconf: falling back to frontend: Readline\n",
            "debconf: unable to initialize frontend: Readline\n",
            "debconf: (This frontend requires a controlling tty.)\n",
            "debconf: falling back to frontend: Teletype\n",
            "dpkg-preconfigure: unable to re-open stdin: \n",
            "Selecting previously unselected package tesseract-ocr-eng.\n",
            "(Reading database ... 123629 files and directories currently installed.)\n",
            "Preparing to unpack .../tesseract-ocr-eng_1%3a4.00~git30-7274cfa-1.1_all.deb ...\n",
            "Unpacking tesseract-ocr-eng (1:4.00~git30-7274cfa-1.1) ...\n",
            "Selecting previously unselected package tesseract-ocr-osd.\n",
            "Preparing to unpack .../tesseract-ocr-osd_1%3a4.00~git30-7274cfa-1.1_all.deb ...\n",
            "Unpacking tesseract-ocr-osd (1:4.00~git30-7274cfa-1.1) ...\n",
            "Selecting previously unselected package tesseract-ocr.\n",
            "Preparing to unpack .../tesseract-ocr_4.1.1-2.1build1_amd64.deb ...\n",
            "Unpacking tesseract-ocr (4.1.1-2.1build1) ...\n",
            "Setting up tesseract-ocr-eng (1:4.00~git30-7274cfa-1.1) ...\n",
            "Setting up tesseract-ocr-osd (1:4.00~git30-7274cfa-1.1) ...\n",
            "Setting up tesseract-ocr (4.1.1-2.1build1) ...\n",
            "Processing triggers for man-db (2.10.2-1) ...\n",
            "Reading package lists... Done\n",
            "Building dependency tree... Done\n",
            "Reading state information... Done\n",
            "The following NEW packages will be installed:\n",
            "  tesseract-ocr-kor\n",
            "0 upgraded, 1 newly installed, 0 to remove and 55 not upgraded.\n",
            "Need to get 1,052 kB of archives.\n",
            "After this operation, 1,693 kB of additional disk space will be used.\n",
            "Get:1 http://archive.ubuntu.com/ubuntu jammy/universe amd64 tesseract-ocr-kor all 1:4.00~git30-7274cfa-1.1 [1,052 kB]\n",
            "Fetched 1,052 kB in 2s (597 kB/s)\n",
            "debconf: unable to initialize frontend: Dialog\n",
            "debconf: (No usable dialog-like program is installed, so the dialog based frontend cannot be used. at /usr/share/perl5/Debconf/FrontEnd/Dialog.pm line 78, <> line 1.)\n",
            "debconf: falling back to frontend: Readline\n",
            "debconf: unable to initialize frontend: Readline\n",
            "debconf: (This frontend requires a controlling tty.)\n",
            "debconf: falling back to frontend: Teletype\n",
            "dpkg-preconfigure: unable to re-open stdin: \n",
            "Selecting previously unselected package tesseract-ocr-kor.\n",
            "(Reading database ... 123676 files and directories currently installed.)\n",
            "Preparing to unpack .../tesseract-ocr-kor_1%3a4.00~git30-7274cfa-1.1_all.deb ...\n",
            "Unpacking tesseract-ocr-kor (1:4.00~git30-7274cfa-1.1) ...\n",
            "Setting up tesseract-ocr-kor (1:4.00~git30-7274cfa-1.1) ...\n",
            "Requirement already satisfied: pytesseract in /usr/local/lib/python3.10/dist-packages (0.3.13)\n",
            "Requirement already satisfied: packaging>=21.3 in /usr/local/lib/python3.10/dist-packages (from pytesseract) (24.2)\n",
            "Requirement already satisfied: Pillow>=8.0.0 in /usr/local/lib/python3.10/dist-packages (from pytesseract) (11.0.0)\n"
          ]
        }
      ]
    },
    {
      "cell_type": "code",
      "source": [
        "# 이미지에서 텍스트 추출 및 저장\n",
        "def extract_and_save_text(input_dir, output_dir, lang='kor+eng'):\n",
        "    \"\"\"\n",
        "    Google Drive에 저장된 이미지를 텍스트로 변환하여 저장.\n",
        "\n",
        "    Parameters:\n",
        "        input_dir (str): 이미지 파일이 저장된 입력 디렉토리 (Google Drive)\n",
        "        output_dir (str): 추출된 텍스트 파일을 저장할 출력 디렉토리 (Google Drive)\n",
        "        lang (str): Tesseract OCR 언어 설정 (기본값: 'kor+eng')\n",
        "    \"\"\"\n",
        "    # 출력 디렉토리 생성\n",
        "    os.makedirs(output_dir, exist_ok=True)\n",
        "\n",
        "    # 이미지 파일 처리\n",
        "    for img_path in os.listdir(input_dir):\n",
        "        if img_path.lower().endswith(('.png', '.jpg', '.jpeg', '.bmp', '.tiff')):\n",
        "            try:\n",
        "                input_path = os.path.join(input_dir, img_path)\n",
        "                output_path = os.path.join(output_dir, os.path.splitext(img_path)[0] + '.txt')\n",
        "\n",
        "                # 이미지에서 텍스트 추출\n",
        "                text = pytesseract.image_to_string(Image.open(input_path), lang=lang)\n",
        "\n",
        "                # 한글, 영어, 숫자, 기호 필터링\n",
        "                filtered_text = re.sub(r'[^\\w\\s가-힣A-Za-z0-9+\\-*/=<>.,]', '', text)\n",
        "\n",
        "                # 텍스트 파일로 저장\n",
        "                with open(output_path, 'w', encoding='utf-8') as f:\n",
        "                    f.write(filtered_text)\n",
        "\n",
        "                print(f\"텍스트가 저장되었습니다: {output_path}\")\n",
        "            except Exception as e:\n",
        "                print(f\"이미지 처리 중 오류가 발생했습니다: {img_path}, 오류 메시지: {e}\")\n",
        "\n",
        "# 4. 입력 및 출력 디렉토리 경로 설정\n",
        "input_dir = '/content/drive/My Drive/AIDS_Project/Images'  # 이미지 폴더 경로\n",
        "output_dir = '/content/drive/My Drive/AIDS_Project/texts'  # 텍스트 저장 폴더 경로\n",
        "\n",
        "# 5. 텍스트 추출 및 저장 함수 호출\n",
        "extract_and_save_text(input_dir, output_dir)"
      ],
      "metadata": {
        "colab": {
          "base_uri": "https://localhost:8080/"
        },
        "id": "tRX7KyUyu8Tu",
        "outputId": "9a614450-b51c-40e5-ee06-fb2d9e55dc03"
      },
      "execution_count": 8,
      "outputs": [
        {
          "output_type": "stream",
          "name": "stdout",
          "text": [
            "텍스트가 저장되었습니다: /content/drive/My Drive/AIDS_Project/texts/CC4AE15E-96F8-418D-97D3-819D7AF1E841_1_201_a.txt\n"
          ]
        }
      ]
    },
    {
      "cell_type": "code",
      "source": [
        "# Solar Pro API configuration\n",
        "client = OpenAI(\n",
        "    api_key=\"up_QlPWg5KR8ix0jWZnOBqsFjSAyltL1\",\n",
        "    base_url=\"https://api.upstage.ai/v1/solar\"\n",
        ")"
      ],
      "metadata": {
        "id": "LJIjclo5p_h-"
      },
      "execution_count": 9,
      "outputs": []
    },
    {
      "cell_type": "code",
      "source": [
        "def classify_subject_with_choices(content, subjects):\n",
        "    \"\"\"\n",
        "    Classify the text into one of the subjects provided by the user.\n",
        "    \"\"\"\n",
        "    subject_list = \", \".join(subjects)\n",
        "    prompt = f\"\"\"\n",
        "    Based on the given text, classify it into one of the following subjects:\n",
        "    {subject_list}.\n",
        "    Only return the name of the subject. Do not add extra explanations or context.\n",
        "    - Text: \"{content}\"\n",
        "    \"\"\"\n",
        "\n",
        "    response = client.chat.completions.create(\n",
        "        model=\"solar-pro\",\n",
        "        messages=[{\"role\": \"user\", \"content\": prompt}],\n",
        "        stream=False,\n",
        "    )\n",
        "    return response.choices[0].message.content.strip()\n",
        "\n",
        "def summarize_and_expand(content):\n",
        "\n",
        "    \"\"\"\n",
        "    Summarize the given content, focusing only on subject-related information, and then, provide directly relevant, in-depth details.\n",
        "    \"\"\"\n",
        "    prompt = f\"\"\"\n",
        "    Summarize the following text, focusing exclusively on the subject-related information, preserving its original meaning and structure.\n",
        "    - Do not add new information or remove important details.\n",
        "    - Remove any dates, names, locations, or unrelated details.\n",
        "    - Make the summary concise and focused only on the core subject information.\n",
        "    - Then, if applicable, provide \"Additional Information:\" with detailed, professional-level context or background about the subject matter itself.\n",
        "    - Avoid explaining the summary itself. Instead, offer new, relevant insights directly related to the subject.\n",
        "    - Text: \"{content}\"\n",
        "    \"\"\"\n",
        "\n",
        "    response = client.chat.completions.create(\n",
        "        model=\"solar-pro\",\n",
        "        messages=[{\"role\": \"user\", \"content\": prompt}],\n",
        "        stream=False,\n",
        "    )\n",
        "    output = response.choices[0].message.content.strip()\n",
        "\n",
        "    # Separate \"Summary\" and \"Additional Information\"\n",
        "    summary, additional_information = \"\", \"\"\n",
        "    if \"Additional Information:\" in output:\n",
        "        parts = output.split(\"Additional Information:\", 1)\n",
        "        summary = parts[0].strip().removeprefix(\"Summary:\").strip()\n",
        "        additional_information = parts[1].strip()\n",
        "    else:\n",
        "        summary = output.strip().removeprefix(\"Summary:\").strip()\n",
        "\n",
        "    return summary, additional_information\n",
        "\n",
        "def main():\n",
        "    # Step 1: Get the list of subjects from the user\n",
        "    print(\"수강 중인 수업을 입력해 주세요.(콤마로 구분) (예: Mathematical Statistics, Intermediate Financial Accounting):\")\n",
        "    user_input = input(\"Subjects: \").strip()\n",
        "    subjects = [subject.strip() for subject in user_input.split(\",\")]\n",
        "\n",
        "    if not subjects:\n",
        "        print(\"수업 리스트가 비어 있습니다. 프로그램을 종료합니다.\")\n",
        "        return\n",
        "\n",
        "    print(f\"입력된 수업 목록: {subjects}\")\n",
        "    print(\"-\" * 50)\n",
        "\n",
        "    # Step 2: Define the text files path in Google Drive\n",
        "    texts_dir = \"/content/drive/My Drive/AIDS_Project/texts\"  # 텍스트 파일이 저장된 디렉토리\n",
        "\n",
        "    # Step 3: Process all text files in the directory\n",
        "    try:\n",
        "        for txt_file in os.listdir(texts_dir):\n",
        "            if txt_file.endswith('.txt'):\n",
        "                file_path = os.path.join(texts_dir, txt_file)\n",
        "\n",
        "                # Step 3.1: Read the content of the text file\n",
        "                with open(file_path, \"r\", encoding=\"utf-8\") as file:\n",
        "                    content = file.read()\n",
        "\n",
        "                # Step 3.2: Classify the text into a subject\n",
        "                classified_subject = classify_subject_with_choices(content, subjects)\n",
        "\n",
        "                # Step 3.3: Summarize and expand the content\n",
        "                summary, additional_information = summarize_and_expand(content)\n",
        "\n",
        "                # Step 3.4: Display the results\n",
        "                print(f\"파일 경로: {file_path}\")\n",
        "                print(f\"Classified Subject: {classified_subject}\")\n",
        "                print(\"\\nSummary:\")\n",
        "                print(summary)\n",
        "                if additional_information:\n",
        "                    print(\"\\nSuggested additional information:\")\n",
        "                    print(additional_information)\n",
        "                print(\"-\" * 50)\n",
        "\n",
        "    except Exception as e:\n",
        "        print(f\"텍스트 파일 처리 중 오류 발생: {txt_file} ({e})\")\n",
        "\n",
        "if __name__ == \"__main__\":\n",
        "    main()"
      ],
      "metadata": {
        "colab": {
          "base_uri": "https://localhost:8080/"
        },
        "id": "_Ipzbq01AqfH",
        "outputId": "cfa3adfa-c3f4-45fd-98c7-69b15f5103c0"
      },
      "execution_count": 18,
      "outputs": [
        {
          "output_type": "stream",
          "name": "stdout",
          "text": [
            "수강 중인 수업을 입력해 주세요.(콤마로 구분) (예: Mathematical Statistics, Intermediate Financial Accounting):\n",
            "Subjects: 금융경제학\n",
            "입력된 수업 목록: ['금융경제학']\n",
            "--------------------------------------------------\n",
            "파일 경로: /content/drive/My Drive/AIDS_Project/texts/CC4AE15E-96F8-418D-97D3-819D7AF1E841_1_201_a.txt\n",
            "분류된 과목: 금융경제학\n",
            "\n",
            "Summary:\n",
            "The lecture discusses different types of investment companies, focusing on hedge funds. Hedge funds, like mutual funds, pool investors' money for collective investment but are not subject to many regulations. They can be categorized by risk classification into short-term, market directional (high risk), moderate risk funds (market neutral or value orientation), and absolute return funds (moderate risk-avoidance).\n",
            "\n",
            "Suggested additional information:\n",
            "Hedge funds are managed by professional investment managers who employ diverse and complex strategies, including short selling, leverage, and derivatives, to generate high returns. They typically require high minimum investments and are only accessible to accredited investors due to their risk profile. Market directional hedge funds aim to profit from anticipated market trends, while market neutral and value-oriented funds seek to minimize market risk and focus on long-term investment strategies. Absolute return funds aim for consistent returns regardless of market conditions.\n",
            "--------------------------------------------------\n"
          ]
        }
      ]
    },
    {
      "cell_type": "code",
      "source": [
        "def delete_files_in_folder(folder_path):\n",
        "    \"\"\"\n",
        "    Google Drive의 특정 폴더에 있는 모든 파일을 삭제.\n",
        "\n",
        "    Parameters:\n",
        "        folder_path (str): 삭제할 파일이 저장된 폴더 경로\n",
        "    \"\"\"\n",
        "    try:\n",
        "        if os.path.exists(folder_path):\n",
        "            for file_name in os.listdir(folder_path):\n",
        "                file_path = os.path.join(folder_path, file_name)\n",
        "                if os.path.isfile(file_path):  # 파일만 삭제\n",
        "                    os.remove(file_path)\n",
        "                    print(f\"삭제 완료: {file_path}\")\n",
        "            print(f\"{folder_path} 폴더가 초기화되었습니다.\")\n",
        "        else:\n",
        "            print(f\"{folder_path} 경로가 존재하지 않습니다.\")\n",
        "    except Exception as e:\n",
        "        print(f\"오류 발생: {e}\")\n",
        "\n",
        "# 이미지 및 텍스트 폴더 초기화\n",
        "images_dir = \"/content/drive/My Drive/AIDS_Project/Images\"\n",
        "texts_dir = \"/content/drive/My Drive/AIDS_Project/texts\"\n",
        "\n",
        "print(\"이미지 폴더 초기화 중...\")\n",
        "delete_files_in_folder(images_dir)\n",
        "\n",
        "print(\"텍스트 폴더 초기화 중...\")\n",
        "delete_files_in_folder(texts_dir)\n",
        "\n",
        "#Reset Solar API\n",
        "def reset_solar_api(api_key, base_url=\"https://api.upstage.ai/v1/solar\"):\n",
        "    \"\"\"\n",
        "    Solar API 초기화 함수.\n",
        "\n",
        "    Parameters:\n",
        "        api_key (str): Solar API 키\n",
        "        base_url (str): Solar API 기본 URL (기본값: Solar API의 base URL)\n",
        "    Returns:\n",
        "        OpenAI: 초기화된 OpenAI 클라이언트\n",
        "    \"\"\"\n",
        "    try:\n",
        "        # 새로운 클라이언트 초기화\n",
        "        client = OpenAI(api_key=\"up_QlPWg5KR8ix0jWZnOBqsFjSAyltL1\", base_url=\"https://api.upstage.ai/v1/solar\")\n",
        "        print(\"Solar API가 초기화되었습니다.\")\n",
        "        return client\n",
        "    except Exception as e:\n",
        "        print(f\"Solar API 초기화 중 오류 발생: {e}\")\n",
        "        return None\n",
        "\n",
        "# Solar API 초기화 호출\n",
        "api_key = \"your_api_key_here\"  # Solar API 키를 여기에 입력\n",
        "client = reset_solar_api(api_key)"
      ],
      "metadata": {
        "colab": {
          "base_uri": "https://localhost:8080/"
        },
        "id": "zey0JEpS2PaH",
        "outputId": "1730356f-9e96-483c-e719-b25d809338d0"
      },
      "execution_count": 7,
      "outputs": [
        {
          "output_type": "stream",
          "name": "stdout",
          "text": [
            "이미지 폴더 초기화 중...\n",
            "삭제 완료: /content/drive/My Drive/AIDS_Project/Images/CC4AE15E-96F8-418D-97D3-819D7AF1E841_1_201_a.jpeg\n",
            "/content/drive/My Drive/AIDS_Project/Images 폴더가 초기화되었습니다.\n",
            "텍스트 폴더 초기화 중...\n",
            "삭제 완료: /content/drive/My Drive/AIDS_Project/texts/CC4AE15E-96F8-418D-97D3-819D7AF1E841_1_201_a.txt\n",
            "/content/drive/My Drive/AIDS_Project/texts 폴더가 초기화되었습니다.\n",
            "Solar API가 초기화되었습니다.\n"
          ]
        }
      ]
    }
  ]
}